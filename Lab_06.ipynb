{
  "cells": [
    {
      "cell_type": "markdown",
      "metadata": {
        "id": "view-in-github",
        "colab_type": "text"
      },
      "source": [
        "<a href=\"https://colab.research.google.com/github/statenandrea33/Staten_GEOG312_Lab6/blob/main/Lab_06.ipynb\" target=\"_parent\"><img src=\"https://colab.research.google.com/assets/colab-badge.svg\" alt=\"Open In Colab\"/></a>"
      ]
    },
    {
      "cell_type": "markdown",
      "metadata": {
        "id": "EPSatZQZwO5F"
      },
      "source": [
        "[![image](https://colab.research.google.com/assets/colab-badge.svg)](https://colab.research.google.com/github/giswqs/geog-312/blob/master/labs/lab_06.ipynb)\n",
        "[![image](https://binder.pangeo.io/badge_logo.svg)](https://gishub.org/geog312-pangeo)\n",
        "\n",
        "**Andrea Staten**"
      ]
    },
    {
      "cell_type": "code",
      "execution_count": 1,
      "metadata": {
        "id": "5YBnTO2cwO5I",
        "colab": {
          "base_uri": "https://localhost:8080/"
        },
        "outputId": "e818584e-b6df-42e9-badf-c44006231b62"
      },
      "outputs": [
        {
          "output_type": "stream",
          "name": "stdout",
          "text": [
            "Submitted time: 2023-11-05 22:47:26.747858\n"
          ]
        }
      ],
      "source": [
        "from datetime import datetime\n",
        "\n",
        "now = datetime.now()\n",
        "print(f\"Submitted time: {now}\")"
      ]
    },
    {
      "cell_type": "markdown",
      "metadata": {
        "id": "v-qmoc9zwO5J"
      },
      "source": [
        "## Question 1\n",
        "**Message:** Write a function called `display_message()` that prints one sentence telling everyone what you are learning about in this chapter. Call the function, and make sure the message displays correctly."
      ]
    },
    {
      "cell_type": "code",
      "execution_count": 2,
      "metadata": {
        "id": "1M7A2wiYwO5J",
        "colab": {
          "base_uri": "https://localhost:8080/"
        },
        "outputId": "741d723e-c495-4f59-de98-a723c34b58a7"
      },
      "outputs": [
        {
          "output_type": "stream",
          "name": "stdout",
          "text": [
            "In this chapter, I am learning Python functions.\n"
          ]
        }
      ],
      "source": [
        "def display_message():\n",
        "    \"\"\"Display what I am learning in this chapter.\"\"\"\n",
        "    print(\"In this chapter, I am learning Python functions.\")\n",
        "\n",
        "display_message()"
      ]
    },
    {
      "cell_type": "markdown",
      "metadata": {
        "id": "PHUpAYTvwO5J"
      },
      "source": [
        "## Question 2\n",
        "**Favorite Book:** Write a function called `favorite_book()` that accepts one parameter, title. The function should print a message, such as `One of my favorite books is Alice in Wonderland`. Call the function, making sure to include a book title as an argument in the function call."
      ]
    },
    {
      "cell_type": "code",
      "execution_count": 3,
      "metadata": {
        "id": "4-AW76MTwO5J",
        "colab": {
          "base_uri": "https://localhost:8080/"
        },
        "outputId": "0717e577-9b24-47d1-daac-92d1a394e6a1"
      },
      "outputs": [
        {
          "output_type": "stream",
          "name": "stdout",
          "text": [
            "One of my favorite books is The Silent Patient.\n"
          ]
        }
      ],
      "source": [
        "def favorite_book(title):\n",
        "    \"\"\"Display information about favorite book.\"\"\"\n",
        "    print(f\"One of my favorite books is {title}.\")\n",
        "\n",
        "favorite_book('The Silent Patient')"
      ]
    },
    {
      "cell_type": "markdown",
      "metadata": {
        "id": "irrqKoycwO5K"
      },
      "source": [
        "## Question 3\n",
        "**T-Shirt:** Write a function called `make_shirt()` that accepts a size and the text of a message that should be printed on the shirt. The function should print a sentence summarizing the size of the shirt and the message printed on it.\n",
        "\n",
        "Call the function once using positional arguments to make a shirt. Call the function a second time using keyword arguments."
      ]
    },
    {
      "cell_type": "code",
      "execution_count": 4,
      "metadata": {
        "id": "seD-rODUwO5K",
        "colab": {
          "base_uri": "https://localhost:8080/"
        },
        "outputId": "27cedd87-06cb-42d5-e99c-8d3cfdd574d8"
      },
      "outputs": [
        {
          "output_type": "stream",
          "name": "stdout",
          "text": [
            "\n",
            "I want a medium shirt.\n",
            "The shirt should say, 'I like plants!'.\n",
            "\n",
            "I want a medium shirt.\n",
            "The shirt should say, 'I like plants!'.\n"
          ]
        }
      ],
      "source": [
        "def make_shirt(shirt_size, shirt_message):\n",
        "    \"\"\"Display information about a shirt.\"\"\"\n",
        "    print(f\"\\nI want a {shirt_size} shirt.\")\n",
        "    print(f\"The shirt should say, '{shirt_message}'.\")\n",
        "\n",
        "make_shirt('medium','I like plants!')\n",
        "make_shirt(shirt_message=\"I like plants!\", shirt_size='medium')"
      ]
    },
    {
      "cell_type": "markdown",
      "metadata": {
        "id": "q9bUEZFkwO5K"
      },
      "source": [
        "## Question 4\n",
        "**Large Shirts:** Modify the `make_shirt()` function so that shirts are large by default with a message that reads *I love Python*. Make a large shirt and a medium shirt with the default message, and a shirt of any size with a different message."
      ]
    },
    {
      "cell_type": "code",
      "execution_count": 5,
      "metadata": {
        "id": "5OcK5BfcwO5L",
        "colab": {
          "base_uri": "https://localhost:8080/"
        },
        "outputId": "384d5131-8357-4f92-d30e-abc27734017c"
      },
      "outputs": [
        {
          "output_type": "stream",
          "name": "stdout",
          "text": [
            "\n",
            "Can you make a shirt that says, 'I love Python.'?\n",
            "Can I have a size large?\n",
            "\n",
            "Can you make a shirt that says, 'I love Python.'?\n",
            "Can I have a size medium?\n",
            "\n",
            "Can you make a shirt that says, 'I like plants.'?\n",
            "Can I have a size small?\n"
          ]
        }
      ],
      "source": [
        "def make_shirt(shirt_size='large',shirt_message='I love Python.'):\n",
        "    \"\"\"Display information about a shirt.\"\"\"\n",
        "    print(f\"\\nCan you make a shirt that says, '{shirt_message}'?\")\n",
        "    print(f\"Can I have a size {shirt_size}?\")\n",
        "\n",
        "make_shirt()\n",
        "make_shirt('medium','I love Python.')\n",
        "make_shirt('small','I like plants.')"
      ]
    },
    {
      "cell_type": "markdown",
      "metadata": {
        "id": "hVnCzWvYwO5L"
      },
      "source": [
        "## Question 5\n",
        "**Cities:** Write a function called `describe_city()` that accepts the name of a city and its country. The function should print a simple sentence, such as `Reykjavik is in Iceland`. Give the parameter for the country a default value. Call your function for three different cities, at least one of which is not in the default country."
      ]
    },
    {
      "cell_type": "code",
      "execution_count": 6,
      "metadata": {
        "id": "gA2-5woMwO5L",
        "colab": {
          "base_uri": "https://localhost:8080/"
        },
        "outputId": "68e77456-9d76-4db4-cdd3-4dce6d7de12b"
      },
      "outputs": [
        {
          "output_type": "stream",
          "name": "stdout",
          "text": [
            "Athens is located in Greece.\n",
            "Patras is located in Greece.\n",
            "Cancun is located in Mexico.\n"
          ]
        }
      ],
      "source": [
        "def describe_city(city,country='greece'):\n",
        "    \"\"\"Describe a cities location.\"\"\"\n",
        "    print(f\"{city.title()} is located in {country.title()}.\")\n",
        "\n",
        "describe_city('athens')\n",
        "describe_city('patras')\n",
        "describe_city('cancun','mexico')"
      ]
    },
    {
      "cell_type": "markdown",
      "metadata": {
        "id": "6cybI7xTwO5L"
      },
      "source": [
        "## Question 6\n",
        "**City Names:** Write a function called `city_country()` that takes in the name of a city and its country. The function should return a string formatted like this:\n",
        "```\n",
        "Santiago, Chile\n",
        "```\n",
        "Call your function with at least three city-country pairs, and print the values that are returned."
      ]
    },
    {
      "cell_type": "code",
      "execution_count": 7,
      "metadata": {
        "id": "0-tSEZOywO5L",
        "colab": {
          "base_uri": "https://localhost:8080/"
        },
        "outputId": "d92d2fce-a3d3-4304-8b74-3483a65c6aca"
      },
      "outputs": [
        {
          "output_type": "stream",
          "name": "stdout",
          "text": [
            "Athens, Greece\n",
            "Patras, Greece\n",
            "Cancun, Mexico\n"
          ]
        }
      ],
      "source": [
        "def city_country(city,country):\n",
        "    \"\"\"Return a string with a city, country.\"\"\"\n",
        "    return (f\"{city.title()}, {country.title()}\")\n",
        "\n",
        "city= city_country('athens', 'greece')\n",
        "print(city)\n",
        "city= city_country('patras', 'greece')\n",
        "print(city)\n",
        "city= city_country('cancun', 'mexico')\n",
        "print(city)"
      ]
    },
    {
      "cell_type": "markdown",
      "metadata": {
        "id": "0f6bwggawO5L"
      },
      "source": [
        "## Question 7\n",
        "**Album:** Write a function called `make_album()` that builds a dictionary describing a music album. The function should take in an artist name and an album title, and it should return a dictionary containing these two pieces of information. Use the function to make three dictionaries representing different albums. Print each return value to show that the dictionaries are storing the album information correctly.\n",
        "\n",
        "Use None to add an optional parameter to make_album() that allows you to store the number of songs on an album. If the calling line includes a value for the number of songs, add that value to the album’s dictionary. Make at least one new function call that includes the number of songs on an album."
      ]
    },
    {
      "cell_type": "code",
      "execution_count": 8,
      "metadata": {
        "id": "t6cE4EiowO5L",
        "colab": {
          "base_uri": "https://localhost:8080/"
        },
        "outputId": "cd5de77d-2e89-401f-c346-6f306b0a3f3e"
      },
      "outputs": [
        {
          "output_type": "stream",
          "name": "stdout",
          "text": [
            "{'artist': 'Rainbow Kitten Surprise', 'title': 'Rks'}\n",
            "{'artist': 'Oliver Tree', 'title': 'Ugly Is Beautiful'}\n",
            "{'artist': 'Still Woozy', 'title': 'Goodie Bag'}\n",
            "{'artist': 'King Gizzard And The Lizard Wizard', 'title': 'Omnium Gatherum', 'number of songs': '16'}\n"
          ]
        }
      ],
      "source": [
        "def make_album(artist,title, num_songs = None):\n",
        "    \"\"\"Build a dictionary describing a music album.\"\"\"\n",
        "    album_dict = {\n",
        "        'artist': artist.title(),\n",
        "        'title': title.title(),\n",
        "    }\n",
        "    if num_songs:\n",
        "        album_dict['number of songs'] = num_songs\n",
        "    return album_dict\n",
        "\n",
        "\n",
        "\n",
        "album = make_album ('rainbow kitten surprise', 'RKS')\n",
        "print(album)\n",
        "\n",
        "album = make_album ('oliver tree', 'ugly is beautiful')\n",
        "print(album)\n",
        "\n",
        "album = make_album ('still woozy', 'goodie bag')\n",
        "print(album)\n",
        "\n",
        "album = make_album ('king gizzard and the lizard wizard', 'omnium gatherum', '16')\n",
        "print(album)"
      ]
    },
    {
      "cell_type": "markdown",
      "metadata": {
        "id": "fSDeRxCPwO5M"
      },
      "source": [
        "## Question 8\n",
        "**User Albums:** Start with your program from Question 7. Write a `while` loop that allows users to enter an album’s artist and title. Once you have that information, call `make_album()` with the user’s input and print the dictionary that’s created. Be sure to include a quit value in the `while` loop."
      ]
    },
    {
      "cell_type": "code",
      "execution_count": 9,
      "metadata": {
        "id": "Szox189hwO5M",
        "colab": {
          "base_uri": "https://localhost:8080/"
        },
        "outputId": "36e53c15-aa2b-43a6-c91c-98bef834aa50"
      },
      "outputs": [
        {
          "name": "stdout",
          "output_type": "stream",
          "text": [
            "Enter 'quit' to stop at any time.\n",
            "\n",
            "What artist or band are you thinking of? RKS\n",
            "What is the name of the album?RKS\n",
            "{'artist': 'Rks', 'title': 'Rks'}\n",
            "\n",
            "What artist or band are you thinking of? Oliver Tree\n",
            "What is the name of the album?Ugly is Beautiful\n",
            "{'artist': 'Oliver Tree', 'title': 'Ugly Is Beautiful'}\n",
            "\n",
            "What artist or band are you thinking of? King Gizzard and the Lizard Wizard\n",
            "What is the name of the album?Changes\n",
            "{'artist': 'King Gizzard And The Lizard Wizard', 'title': 'Changes'}\n",
            "\n",
            "What artist or band are you thinking of? quit\n"
          ]
        }
      ],
      "source": [
        "def make_album(artist,title, num_songs = None):\n",
        "    \"\"\"Build a dictionary describing a music album.\"\"\"\n",
        "    album_dict = {\n",
        "        'artist': artist.title(),\n",
        "        'title': title.title(),\n",
        "    }\n",
        "    if num_songs:\n",
        "        album_dict['number of songs'] = num_songs\n",
        "    return album_dict\n",
        "\n",
        "artist_prompt = \"\\nWhat artist or band are you thinking of? \"\n",
        "title_prompt = \"What is the name of the album?\"\n",
        "\n",
        "print(\"Enter 'quit' to stop at any time.\")\n",
        "\n",
        "while True:\n",
        "    artist = input(artist_prompt)\n",
        "    if artist == 'quit':\n",
        "        break\n",
        "\n",
        "    title = input(title_prompt)\n",
        "    if title == 'quit':\n",
        "        break\n",
        "\n",
        "    album = make_album(artist,title)\n",
        "    print(album)"
      ]
    },
    {
      "cell_type": "markdown",
      "metadata": {
        "id": "qlb7qZLewO5M"
      },
      "source": [
        "## Question 9\n",
        "**Messages:** Make a list containing a series of short text messages. Pass the list to a function called `show_messages()`, which prints each text message."
      ]
    },
    {
      "cell_type": "code",
      "execution_count": 10,
      "metadata": {
        "id": "xD9pSet0wO5M",
        "colab": {
          "base_uri": "https://localhost:8080/"
        },
        "outputId": "8e87c8a6-fcde-4005-ebf4-a752ce07309a"
      },
      "outputs": [
        {
          "output_type": "stream",
          "name": "stdout",
          "text": [
            "hi\n",
            "how are you\n",
            "goodbye\n"
          ]
        }
      ],
      "source": [
        "messages = [\"hi\",\"how are you\",\"goodbye\"]\n",
        "\n",
        "def show_messages(messages):\n",
        "    \"\"\"Print each text message.\"\"\"\n",
        "    for message in messages:\n",
        "        print(message)\n",
        "\n",
        "show_messages(messages)"
      ]
    },
    {
      "cell_type": "markdown",
      "metadata": {
        "id": "SH9ytuXHwO5M"
      },
      "source": [
        "## Question 10\n",
        "**Sending Messages:** Start with a copy of your program from Question 9. Write a function called `send_messages()` that prints each text message and moves each message to a new list called `sent_messages` as it’s printed. After calling the function, print both of your lists to make sure the messages were moved correctly."
      ]
    },
    {
      "cell_type": "code",
      "execution_count": 11,
      "metadata": {
        "id": "3EzOM4zhwO5M",
        "colab": {
          "base_uri": "https://localhost:8080/"
        },
        "outputId": "2e3a0a6e-3036-48fd-b5cf-a70b50ae7ffb"
      },
      "outputs": [
        {
          "output_type": "stream",
          "name": "stdout",
          "text": [
            "Current message: goodbye\n",
            "Current message: how are you\n",
            "Current message: hi\n",
            "\n",
            "The following messages are now sent:\n",
            "goodbye\n",
            "how are you\n",
            "hi\n"
          ]
        }
      ],
      "source": [
        "def show_messages(messages, sent_messages):\n",
        "    \"\"\"Print each text message.\"\"\"\n",
        "    while messages:\n",
        "        current_message = messages.pop()\n",
        "        print(\"Current message: {}\".format(current_message))\n",
        "        sent_messages.append(current_message)\n",
        "\n",
        "def send_messages(sent_messages):\n",
        "    print(\"\\nThe following messages are now sent:\")\n",
        "    for sent_message in sent_messages:\n",
        "        print(\"{}\".format(sent_message))\n",
        "\n",
        "messages = [\"hi\",\"how are you\",\"goodbye\"]\n",
        "sent_messages = []\n",
        "\n",
        "show_messages(messages, sent_messages)\n",
        "send_messages(sent_messages)"
      ]
    },
    {
      "cell_type": "markdown",
      "metadata": {
        "id": "NlgY6ieBwO5M"
      },
      "source": [
        "## Question 11\n",
        "**Archived Messages:** Start with your work from Question 10. Call the function `send_messages()` with a copy of the list of messages. After calling the function, print both of your lists to show that the original list has retained its messages."
      ]
    },
    {
      "cell_type": "code",
      "execution_count": 12,
      "metadata": {
        "id": "6a3pafMkwO5M",
        "colab": {
          "base_uri": "https://localhost:8080/"
        },
        "outputId": "8fce675a-235d-43a9-cdba-74c51d2de782"
      },
      "outputs": [
        {
          "output_type": "stream",
          "name": "stdout",
          "text": [
            "Current message: goodbye\n",
            "Current message: how are you\n",
            "Current message: hi\n",
            "\n",
            "The following messages are now sent:\n",
            "goodbye\n",
            "how are you\n",
            "hi\n",
            "Original messages list: []\n",
            "Sent messages list: ['goodbye', 'how are you', 'hi']\n"
          ]
        }
      ],
      "source": [
        "def show_messages(messages, sent_messages):\n",
        "    \"\"\"Print each text message.\"\"\"\n",
        "    while messages:\n",
        "        current_message = messages.pop()\n",
        "        print(\"Current message: {}\".format(current_message))\n",
        "        sent_messages.append(current_message)\n",
        "\n",
        "def send_messages(sent_messages):\n",
        "    print(\"\\nThe following messages are now sent:\")\n",
        "    for sent_message in sent_messages:\n",
        "        print(\"{}\".format(sent_message))\n",
        "\n",
        "messages = [\"hi\",\"how are you\",\"goodbye\"]\n",
        "sent_messages = []\n",
        "\n",
        "show_messages(messages, sent_messages)\n",
        "send_messages(sent_messages)\n",
        "\n",
        "print(\"Original messages list:\", messages)\n",
        "print(\"Sent messages list:\", sent_messages)"
      ]
    },
    {
      "cell_type": "markdown",
      "metadata": {
        "id": "5jGJbnz8wO5M"
      },
      "source": [
        "## Question 12\n",
        "**Sandwiches:** Write a function that accepts a list of items a person wants on a sandwich. The function should have one parameter that collects as many items as the function call provides, and it should print a summary of the sandwich that’s being ordered. Call the function three times, using a different number of arguments each time."
      ]
    },
    {
      "cell_type": "code",
      "execution_count": 13,
      "metadata": {
        "id": "IpVnTe9qwO5M",
        "colab": {
          "base_uri": "https://localhost:8080/"
        },
        "outputId": "890a310c-005f-4f8b-a043-95e2284d56de"
      },
      "outputs": [
        {
          "output_type": "stream",
          "name": "stdout",
          "text": [
            "The sandwich will have the following ingredients:\n",
            "-Ham\n",
            "-Cheese\n",
            "-Lettuce\n",
            "-Tomato\n",
            "\n",
            "\n",
            "The sandwich will have the following ingredients:\n",
            "-Turkey\n",
            "-Swiss cheese\n",
            "-Mayo\n",
            "\n",
            "\n",
            "The sandwich will have the following ingredients:\n",
            "-Peanut butter\n",
            "-Jelly\n"
          ]
        }
      ],
      "source": [
        "def make_sandwich(*items):\n",
        "  print(\"The sandwich will have the following ingredients:\")\n",
        "  for item in items:\n",
        "    print(\"-\"+ item)\n",
        "\n",
        "make_sandwich(\"Ham\", \"Cheese\", \"Lettuce\", \"Tomato\")\n",
        "print(\"\\n\")\n",
        "\n",
        "make_sandwich(\"Turkey\", \"Swiss cheese\", \"Mayo\")\n",
        "print(\"\\n\")\n",
        "\n",
        "make_sandwich(\"Peanut butter\", \"Jelly\")"
      ]
    },
    {
      "cell_type": "markdown",
      "metadata": {
        "id": "zrYXQ3VCwO5M"
      },
      "source": [
        "## Question 13\n",
        "**Cars:** Write a function that stores information about a car in a dictionary. The function should always receive a manufacturer and a model name. It should then accept an arbitrary number of keyword arguments. Call the function with the required information and two other name-value pairs, such as a color or an optional feature. Your function should work for a call like this one:\n",
        "```\n",
        "car = make_car('subaru', 'outback', color='blue', tow_package=True)\n",
        "```\n",
        "Print the dictionary that’s returned to make sure all the information was stored correctly."
      ]
    },
    {
      "cell_type": "code",
      "execution_count": 14,
      "metadata": {
        "id": "ydyhyyvfwO5M",
        "colab": {
          "base_uri": "https://localhost:8080/"
        },
        "outputId": "0098f963-bf9f-4085-e3b0-4cd153a1cec5"
      },
      "outputs": [
        {
          "output_type": "stream",
          "name": "stdout",
          "text": [
            "{'manufacturer': 'subaru', 'model': 'outback', 'color': 'blue', 'tow_package': True}\n"
          ]
        }
      ],
      "source": [
        "def make_car(manufacturer, model, **kwargs):\n",
        "  car_info = {\n",
        "      'manufacturer': manufacturer,\n",
        "      'model': model,\n",
        "  }\n",
        "  car_info.update(kwargs)\n",
        "  return car_info\n",
        "\n",
        "car = make_car('subaru', 'outback', color='blue', tow_package=True)\n",
        "print(car)"
      ]
    },
    {
      "cell_type": "markdown",
      "metadata": {
        "id": "PuWvDK5RwO5M"
      },
      "source": [
        "## Question 14\n",
        "**Restaurant:** Make a class called `Restaurant`. The `__init__()` method for `Restaurant` should store two attributes: a `restaurant_name` and a `cuisine_type`. Make a method called `describe_restaurant()` that prints these two pieces of information, and a method called `open_restaurant()` that prints a message indicating that the restaurant is open.\n",
        "\n",
        "Make an instance called `restaurant` from your class. Print the two attributes individually, and then call both methods."
      ]
    },
    {
      "cell_type": "code",
      "execution_count": 15,
      "metadata": {
        "id": "rB20As-TwO5N",
        "colab": {
          "base_uri": "https://localhost:8080/"
        },
        "outputId": "ad06d3e3-80f9-4336-85c3-f0763cf1cbb2"
      },
      "outputs": [
        {
          "output_type": "stream",
          "name": "stdout",
          "text": [
            "Restaurant Name: Andrea's Cafe\n",
            "Cuisine Type: Bakery/Coffee Shop\n",
            "Restaurant Name: Andrea's Cafe\n",
            "Cuisine Type: Bakery/Coffee Shop\n",
            "The restaurant Andrea's Cafe is now open.\n"
          ]
        }
      ],
      "source": [
        "class Restaurant:\n",
        "  def __init__(self, restaurant_name, cuisine_type):\n",
        "      self.restaurant_name = restaurant_name\n",
        "      self.cuisine_type = cuisine_type\n",
        "\n",
        "  def describe_restaurant(self):\n",
        "    print(f\"Restaurant Name: {self.restaurant_name}\")\n",
        "    print(f\"Cuisine Type: {self.cuisine_type}\")\n",
        "\n",
        "  def open_restaurant(self):\n",
        "    print(f\"The restaurant {self.restaurant_name} is now open.\")\n",
        "\n",
        "restaurant = Restaurant(\"Andrea's Cafe\", \"Bakery/Coffee Shop\")\n",
        "\n",
        "print(\"Restaurant Name:\", restaurant.restaurant_name)\n",
        "print(\"Cuisine Type:\", restaurant.cuisine_type)\n",
        "\n",
        "restaurant.describe_restaurant()\n",
        "restaurant.open_restaurant()"
      ]
    },
    {
      "cell_type": "markdown",
      "metadata": {
        "id": "5de7TKyFwO5N"
      },
      "source": [
        "## Question 15\n",
        "**Three Restaurants:** Start with your class from Question 14. Create three different instances from the class, and call `describe_restaurant()` for each instance."
      ]
    },
    {
      "cell_type": "code",
      "execution_count": 16,
      "metadata": {
        "id": "v-39DkPPwO5N",
        "colab": {
          "base_uri": "https://localhost:8080/"
        },
        "outputId": "7c82aa70-6c5b-49a4-d77f-123e8ecafac7"
      },
      "outputs": [
        {
          "output_type": "stream",
          "name": "stdout",
          "text": [
            "Restaurant Name: Andrea's Cafe\n",
            "Cuisine Type: Bakery/Coffee Shop\n",
            "\n",
            "\n",
            "Restaurant Name: Maxwell's Hibachi House (MHH)\n",
            "Cuisine Type: Japanses\n",
            "\n",
            "\n",
            "Restaurant Name: Annabelle's Chicken Shack\n",
            "Cuisine Type: Southern\n"
          ]
        }
      ],
      "source": [
        "class Restaurant:\n",
        "  def __init__(self, restaurant_name, cuisine_type):\n",
        "      self.restaurant_name = restaurant_name\n",
        "      self.cuisine_type = cuisine_type\n",
        "\n",
        "  def describe_restaurant(self):\n",
        "    print(f\"Restaurant Name: {self.restaurant_name}\")\n",
        "    print(f\"Cuisine Type: {self.cuisine_type}\")\n",
        "\n",
        "  def open_restaurant(self):\n",
        "    print(f\"The restaurant {self.restaurant_name} is now open.\")\n",
        "\n",
        "restaurant1 = Restaurant(\"Andrea's Cafe\", \"Bakery/Coffee Shop\")\n",
        "restaurant2 = Restaurant(\"Maxwell's Hibachi House (MHH)\", \"Japanses\")\n",
        "restaurant3 = Restaurant(\"Annabelle's Chicken Shack\", \"Southern\")\n",
        "\n",
        "restaurant1.describe_restaurant()\n",
        "print(\"\\n\")\n",
        "restaurant2.describe_restaurant()\n",
        "print(\"\\n\")\n",
        "restaurant3.describe_restaurant()"
      ]
    },
    {
      "cell_type": "markdown",
      "metadata": {
        "id": "TnN9enK2wO5N"
      },
      "source": [
        "## Question 16\n",
        "**Users:** Make a class called `User`. Create two attributes called `first_name` and `last_name`, and then create several other attributes that are typically stored in a user profile. Make a method called `describe_user()` that prints a summary of the user’s information. Make another method called `greet_user()` that prints a personalized greeting to the user.\n",
        "\n",
        "Create several instances representing different users, and call both methods for each user."
      ]
    },
    {
      "cell_type": "code",
      "execution_count": 17,
      "metadata": {
        "id": "kn-AF4P_wO5N",
        "colab": {
          "base_uri": "https://localhost:8080/"
        },
        "outputId": "bf865d77-5875-4ebe-8a81-98d857b26484"
      },
      "outputs": [
        {
          "output_type": "stream",
          "name": "stdout",
          "text": [
            "User Information:\n",
            "First Name: John\n",
            "Last Name: Doe\n",
            "Username: johndoe123\n",
            "Email: johndoe@example.com\n",
            "Age: 30\n",
            "Hello, John! Welcome to our platform.\n",
            "\n",
            "\n",
            "User Information:\n",
            "First Name: Andrea\n",
            "Last Name: Staten\n",
            "Username: statenand\n",
            "Email: statenand@example.com\n",
            "Age: 21\n",
            "Hello, Andrea! Welcome to our platform.\n",
            "\n",
            "\n",
            "User Information:\n",
            "First Name: Maxwell\n",
            "Last Name: Marcum\n",
            "Username: maxmarcum\n",
            "Email: maxmarcum@example.com\n",
            "Age: 21\n",
            "Hello, Maxwell! Welcome to our platform.\n"
          ]
        }
      ],
      "source": [
        "class User:\n",
        "    def __init__(self, first_name, last_name, username, email, age):\n",
        "        self.first_name = first_name\n",
        "        self.last_name = last_name\n",
        "        self.username = username\n",
        "        self.email = email\n",
        "        self.age = age\n",
        "\n",
        "    def describe_user(self):\n",
        "        print(\"User Information:\")\n",
        "        print(f\"First Name: {self.first_name}\")\n",
        "        print(f\"Last Name: {self.last_name}\")\n",
        "        print(f\"Username: {self.username}\")\n",
        "        print(f\"Email: {self.email}\")\n",
        "        print(f\"Age: {self.age}\")\n",
        "\n",
        "    def greet_user(self):\n",
        "        print(f\"Hello, {self.first_name}! Welcome to our platform.\")\n",
        "\n",
        "user1 = User(\"John\", \"Doe\", \"johndoe123\", \"johndoe@example.com\", 30)\n",
        "user2 = User(\"Andrea\", \"Staten\", \"statenand\", \"statenand@example.com\", 21)\n",
        "user3 = User(\"Maxwell\", \"Marcum\", \"maxmarcum\", \"maxmarcum@example.com\", 21)\n",
        "\n",
        "user1.describe_user()\n",
        "user1.greet_user()\n",
        "print(\"\\n\")\n",
        "\n",
        "user2.describe_user()\n",
        "user2.greet_user()\n",
        "print(\"\\n\")\n",
        "\n",
        "user3.describe_user()\n",
        "user3.greet_user()\n"
      ]
    },
    {
      "cell_type": "markdown",
      "metadata": {
        "id": "T04BIYymwO5N"
      },
      "source": [
        "## Question 17\n",
        "**Number Served:** Start with your program from Question 14. Add an attribute called `number_served` with a default value of 0. Create an instance called `restaurant` from this class. Print the number of customers the restaurant has served, and then change this value and print it again.\n",
        "\n",
        "Add a method called `set_number_served()` that lets you set the number of customers that have been served. Call this method with a new number and print the value again.\n",
        "\n",
        "Add a method called `increment_number_served()` that lets you increment the number of customers who’ve been served.\n",
        "\n",
        "Call this method with any number you like that could represent how many customers were served in, say, a day of business."
      ]
    },
    {
      "cell_type": "code",
      "execution_count": 18,
      "metadata": {
        "id": "KkTzQX_uwO5N",
        "colab": {
          "base_uri": "https://localhost:8080/"
        },
        "outputId": "1c416b02-2b63-4ec5-d1ad-c009491c4987"
      },
      "outputs": [
        {
          "output_type": "stream",
          "name": "stdout",
          "text": [
            "Initial number of customers served: 0\n",
            "Updated number of customers served: 50\n",
            "Number of customers served after using set_number_served method: 100\n",
            "Number of customers served after using increment_number_served method: 120\n"
          ]
        }
      ],
      "source": [
        "class Restaurant:\n",
        "    def __init__(self, restaurant_name, cuisine_type):\n",
        "        self.restaurant_name = restaurant_name\n",
        "        self.cuisine_type = cuisine_type\n",
        "        self.number_served = 0\n",
        "\n",
        "    def describe_restaurant(self):\n",
        "        print(f\"Restaurant Name: {self.restaurant_name}\")\n",
        "        print(f\"Cuisine Type: {self.cuisine_type}\")\n",
        "\n",
        "    def open_restaurant(self):\n",
        "        print(f\"The restaurant {self.restaurant_name} is now open.\")\n",
        "\n",
        "    def set_number_served(self, number):\n",
        "        self.number_served = number\n",
        "\n",
        "    def increment_number_served(self, increment):\n",
        "        self.number_served += increment\n",
        "\n",
        "restaurant = Restaurant(\"Andrea's Cafe\", \"Bakery/ Coffee Shop\")\n",
        "\n",
        "print(\"Initial number of customers served:\", restaurant.number_served)\n",
        "\n",
        "restaurant.number_served = 50\n",
        "print(\"Updated number of customers served:\", restaurant.number_served)\n",
        "\n",
        "restaurant.set_number_served(100)\n",
        "print(\"Number of customers served after using set_number_served method:\", restaurant.number_served)\n",
        "\n",
        "restaurant.increment_number_served(20)\n",
        "print(\"Number of customers served after using increment_number_served method:\", restaurant.number_served)\n"
      ]
    },
    {
      "cell_type": "markdown",
      "metadata": {
        "id": "HvNNwBw_wO5N"
      },
      "source": [
        "## Question 18\n",
        "**Login Attempts:** Add an attribute called login_attempts to your User class from Question 16. Write a method called `increment_login_attempts()` that increments the value of `login_attempts` by 1. Write another method called `reset_login_attempts()` that resets the value of login_attempts to 0.\n",
        "\n",
        "Make an instance of the `User` class and call `increment_login_attempts()` several times. Print the value of `login_attempts` to make sure it was incremented properly, and then call `reset_login_attempts()`. Print `login_attempts` again to make sure it was reset to 0."
      ]
    },
    {
      "cell_type": "code",
      "execution_count": 19,
      "metadata": {
        "id": "VgyO7w3AwO5N",
        "colab": {
          "base_uri": "https://localhost:8080/"
        },
        "outputId": "aeb6296d-c69d-4e6b-ab2a-99be5a64ddb0"
      },
      "outputs": [
        {
          "output_type": "stream",
          "name": "stdout",
          "text": [
            "Login attempts: 3\n",
            "Login attempts after resetting: 0\n"
          ]
        }
      ],
      "source": [
        "class User:\n",
        "    def __init__(self, first_name, last_name, username, email, age):\n",
        "        self.first_name = first_name\n",
        "        self.last_name = last_name\n",
        "        self.username = username\n",
        "        self.email = email\n",
        "        self.age = age\n",
        "        self.login_attempts = 0\n",
        "\n",
        "    def describe_user(self):\n",
        "        print(\"User Information:\")\n",
        "        print(f\"First Name: {self.first_name}\")\n",
        "        print(f\"Last Name: {self.last_name}\")\n",
        "        print(f\"Username: {self.username}\")\n",
        "        print(f\"Email: {self.email}\")\n",
        "        print(f\"Age: {self.age}\")\n",
        "\n",
        "    def greet_user(self):\n",
        "        print(f\"Hello, {self.first_name}! Welcome to our platform.\")\n",
        "\n",
        "    def increment_login_attempts(self):\n",
        "      self.login_attempts += 1\n",
        "\n",
        "    def reset_login_attempts(self):\n",
        "      self.login_attempts = 0\n",
        "\n",
        "user = User(\"Andrea\", \"Staten\", \"statenand\", \"statenand@example.com\", 21)\n",
        "\n",
        "user.increment_login_attempts()\n",
        "user.increment_login_attempts()\n",
        "user.increment_login_attempts()\n",
        "\n",
        "print(\"Login attempts:\", user.login_attempts)\n",
        "\n",
        "user.reset_login_attempts()\n",
        "\n",
        "print(\"Login attempts after resetting:\", user.login_attempts)"
      ]
    },
    {
      "cell_type": "markdown",
      "metadata": {
        "id": "nmt5lPM4wO5N"
      },
      "source": [
        "## Question 19\n",
        "**Dice:** Make a class `Die` with one attribute called `sides`, which has a default value of 6. Write a method called `roll_die()` that prints a random number between 1 and the number of sides the die has. Make a 6-sided die and roll it 10 times.\n",
        "\n",
        "Make a 10-sided die and a 20-sided die. Roll each die 10 times."
      ]
    },
    {
      "cell_type": "code",
      "execution_count": 20,
      "metadata": {
        "id": "KxW5JOmnwO5Q",
        "colab": {
          "base_uri": "https://localhost:8080/"
        },
        "outputId": "c2873c84-5f9b-420e-94c6-f3c55a28514d"
      },
      "outputs": [
        {
          "output_type": "stream",
          "name": "stdout",
          "text": [
            "Rolling a 6- sided die 10 times:\n",
            "Roll  0: 6\n",
            "Roll  1: 2\n",
            "Roll  2: 6\n",
            "Roll  3: 3\n",
            "Roll  4: 4\n",
            "Roll  5: 3\n",
            "Roll  6: 3\n",
            "Roll  7: 5\n",
            "Roll  8: 6\n",
            "Roll  9: 6\n",
            "\n",
            "\n",
            "Rolling a 10- sided die 10 times:\n",
            "Roll  0: 10\n",
            "Roll  1: 3\n",
            "Roll  2: 1\n",
            "Roll  3: 10\n",
            "Roll  4: 3\n",
            "Roll  5: 6\n",
            "Roll  6: 8\n",
            "Roll  7: 6\n",
            "Roll  8: 7\n",
            "Roll  9: 4\n",
            "\n",
            "\n",
            "Rolling a 20- sided die 10 times:\n",
            "Roll  0: 20\n",
            "Roll  1: 20\n",
            "Roll  2: 6\n",
            "Roll  3: 20\n",
            "Roll  4: 10\n",
            "Roll  5: 17\n",
            "Roll  6: 11\n",
            "Roll  7: 7\n",
            "Roll  8: 16\n",
            "Roll  9: 4\n"
          ]
        }
      ],
      "source": [
        "import random\n",
        "\n",
        "class Die:\n",
        "  def __init__(self, sides=6):\n",
        "    self.sides = sides\n",
        "\n",
        "  def roll_die(self, rolls=10):\n",
        "    print(f\"Rolling a {self.sides}- sided die {rolls} times:\")\n",
        "    for _ in range(rolls):\n",
        "      result = random.randint(1, self.sides)\n",
        "      print(f\"Roll {_:2}: {result}\")\n",
        "\n",
        "six_sided_die = Die()\n",
        "six_sided_die.roll_die()\n",
        "print(\"\\n\")\n",
        "\n",
        "ten_sided_die = Die(sides=10)\n",
        "ten_sided_die.roll_die()\n",
        "print(\"\\n\")\n",
        "\n",
        "twenty_sided_die = Die(sides=20)\n",
        "twenty_sided_die.roll_die()"
      ]
    },
    {
      "cell_type": "markdown",
      "metadata": {
        "id": "nxGq04cCwO5Q"
      },
      "source": [
        "## Question 20\n",
        "**Lottery:** Make a list or tuple containing a series of 10 numbers and five letters. Randomly select four numbers or letters from the list and print a message saying that any ticket matching these four numbers or letters wins a prize.\n",
        "\n",
        "You can use a loop to see how hard it might be to win the kind of lottery you just modeled. Make a list or tuple called `my_ticket`. Write a loop that keeps pulling numbers until your ticket wins. Print a message reporting how many times the loop had to run to give you a winning ticket."
      ]
    },
    {
      "cell_type": "code",
      "execution_count": 21,
      "metadata": {
        "id": "mHscNkWHwO5Q",
        "colab": {
          "base_uri": "https://localhost:8080/"
        },
        "outputId": "180e710e-a958-4da1-f8db-07164ebc1f13"
      },
      "outputs": [
        {
          "output_type": "stream",
          "name": "stdout",
          "text": [
            "Congratulations! You won with ticket [3, 'A', 'B', 9].\n",
            "It took 153231 attempts to win.\n"
          ]
        }
      ],
      "source": [
        "import random\n",
        "\n",
        "lottery_pool = [1, 2, 3, 4, 5, 6, 7, 8, 9, 0, 'A', 'B', 'C', 'D', 'E']\n",
        "my_ticket = [3, 'A', 'B', 9]\n",
        "attempts = 0\n",
        "\n",
        "while True:\n",
        "  drawn_ticket = random.sample(lottery_pool, 4)\n",
        "\n",
        "  if drawn_ticket == my_ticket:\n",
        "    print(f\"Congratulations! You won with ticket {my_ticket}.\")\n",
        "    break\n",
        "\n",
        "  attempts += 1\n",
        "\n",
        "print(f\"It took {attempts} attempts to win.\")"
      ]
    }
  ],
  "metadata": {
    "kernelspec": {
      "display_name": "Python 3 (ipykernel)",
      "language": "python",
      "name": "python3"
    },
    "language_info": {
      "codemirror_mode": {
        "name": "ipython",
        "version": 3
      },
      "file_extension": ".py",
      "mimetype": "text/x-python",
      "name": "python",
      "nbconvert_exporter": "python",
      "pygments_lexer": "ipython3",
      "version": "3.8.10"
    },
    "colab": {
      "provenance": [],
      "include_colab_link": true
    }
  },
  "nbformat": 4,
  "nbformat_minor": 0
}